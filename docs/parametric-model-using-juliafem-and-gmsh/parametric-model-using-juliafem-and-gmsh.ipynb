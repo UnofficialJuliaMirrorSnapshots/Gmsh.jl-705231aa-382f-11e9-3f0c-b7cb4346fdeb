{
 "cells": [
  {
   "cell_type": "markdown",
   "metadata": {},
   "source": [
    "<img src=\"model.png\">"
   ]
  },
  {
   "cell_type": "markdown",
   "metadata": {},
   "source": [
    "Use Gmsh to create model."
   ]
  },
  {
   "cell_type": "code",
   "execution_count": 1,
   "metadata": {},
   "outputs": [],
   "source": [
    "import Gmsh: gmsh\n",
    "gmsh.initialize()\n",
    "gmsh.option.setNumber(\"General.Terminal\", 1)\n",
    "gmsh.model.add(\"plate_with_hole\")"
   ]
  },
  {
   "cell_type": "code",
   "execution_count": 2,
   "metadata": {},
   "outputs": [
    {
     "data": {
      "text/plain": [
       "7-element Array{Tuple{Int32,Int32},1}:\n",
       " (2, 32)\n",
       " (3, 1) \n",
       " (2, 15)\n",
       " (2, 19)\n",
       " (2, 23)\n",
       " (2, 27)\n",
       " (2, 31)"
      ]
     },
     "execution_count": 2,
     "metadata": {},
     "output_type": "execute_result"
    }
   ],
   "source": [
    "lc = 0.5\n",
    "gmsh.model.geo.addPoint(0.0, 0.0, 0.0, lc, 1)\n",
    "gmsh.model.geo.addPoint(1.0, 0.0, 0.0, lc, 2)\n",
    "gmsh.model.geo.addPoint(5.0, 0.0, 0.0, lc, 3)\n",
    "gmsh.model.geo.addPoint(5.0, 5.0, 0.0, lc, 4)\n",
    "gmsh.model.geo.addPoint(0.0, 5.0, 0.0, lc, 5)\n",
    "gmsh.model.geo.addPoint(0.0, 1.0, 0.0, lc, 6)\n",
    "gmsh.model.geo.addLine(2, 3, 1)\n",
    "gmsh.model.geo.addLine(3, 4, 2)\n",
    "gmsh.model.geo.addLine(4, 5, 3)\n",
    "gmsh.model.geo.addLine(5, 6, 4)\n",
    "gmsh.model.geo.addCircleArc(6, 1, 2, 5)\n",
    "gmsh.model.geo.addCurveLoop([3, 4, 5, 1, 2], 1)\n",
    "gmsh.model.geo.addPlaneSurface([1], 1)\n",
    "gmsh.model.geo.extrude([(2,1)], 0, 0, 0.3)"
   ]
  },
  {
   "cell_type": "code",
   "execution_count": 3,
   "metadata": {},
   "outputs": [
    {
     "data": {
      "text/plain": [
       "1"
      ]
     },
     "execution_count": 3,
     "metadata": {},
     "output_type": "execute_result"
    }
   ],
   "source": [
    "gmsh.model.addPhysicalGroup(2, [19], 1)\n",
    "gmsh.model.addPhysicalGroup(2, [31], 2)\n",
    "gmsh.model.addPhysicalGroup(2, [15], 3)\n",
    "gmsh.model.addPhysicalGroup(2, [27], 4)\n",
    "gmsh.model.addPhysicalGroup(2, [32], 5)\n",
    "gmsh.model.addPhysicalGroup(2, [1], 6)\n",
    "gmsh.model.addPhysicalGroup(3, [1], 1)"
   ]
  },
  {
   "cell_type": "code",
   "execution_count": 4,
   "metadata": {},
   "outputs": [],
   "source": [
    "gmsh.model.setPhysicalName(2, 1, \"LEFT\")\n",
    "gmsh.model.setPhysicalName(2, 2, \"RIGHT\")\n",
    "gmsh.model.setPhysicalName(2, 3, \"TOP\")\n",
    "gmsh.model.setPhysicalName(2, 4, \"DOWN\")\n",
    "gmsh.model.setPhysicalName(2, 5, \"FRONT\")\n",
    "gmsh.model.setPhysicalName(2, 6, \"BACK\")\n",
    "gmsh.model.setPhysicalName(3, 1, \"PLATE\")"
   ]
  },
  {
   "cell_type": "code",
   "execution_count": 5,
   "metadata": {},
   "outputs": [
    {
     "name": "stdout",
     "output_type": "stream",
     "text": [
      "Info    : Meshing 1D...\n",
      "Info    : Meshing curve 1 (Line)\n",
      "Info    : Meshing curve 2 (Line)\n",
      "Info    : Meshing curve 3 (Line)\n",
      "Info    : Meshing curve 4 (Line)\n",
      "Info    : Meshing curve 5 (Circle)\n",
      "Info    : Meshing curve 7 (Line)\n",
      "Info    : Meshing curve 8 (Line)\n",
      "Info    : Meshing curve 9 (Circle)\n",
      "Info    : Meshing curve 10 (Line)\n",
      "Info    : Meshing curve 11 (Line)\n",
      "Info    : Meshing curve 13 (Line)\n",
      "Info    : Meshing curve 14 (Line)\n",
      "Info    : Meshing curve 18 (Line)\n",
      "Info    : Meshing curve 22 (Line)\n",
      "Info    : Meshing curve 26 (Line)\n",
      "Info    : Done meshing 1D (0.00172 s)\n",
      "Info    : Meshing 2D...\n",
      "Info    : Meshing surface 1 (Plane, Delaunay)\n",
      "Info    : Meshing surface 15 (Surface, MeshAdapt)\n",
      "Info    : Meshing surface 19 (Surface, MeshAdapt)\n",
      "Info    : Meshing surface 23 (Surface, MeshAdapt)\n",
      "Info    : Meshing surface 27 (Surface, MeshAdapt)\n",
      "Info    : Meshing surface 31 (Surface, MeshAdapt)\n",
      "Info    : Meshing surface 32 (Plane, Delaunay)\n",
      "Info    : Done meshing 2D (0.016156 s)\n",
      "Info    : Meshing 3D...\n",
      "Info    : 3D Meshing 1 volumes with 1 connected components\n",
      "Info    : Tetrahedrization of 320 points in 0.005657 seconds\n",
      "Info    : Reconstructing mesh...\n",
      "Info    :  - Creating surface mesh\n",
      "Info    :  - Identifying boundary edges\n",
      "Info    :  - Recovering boundary\n",
      "Info    :  - Added 4 Steiner points\n",
      "Info    : Done reconstructing mesh (0.019033 s)\n",
      "Info    : Found region 1\n",
      "Info    : 0 points created - worst tet radius 0.984173 (points removed 0 0)\n",
      "Info    : 3D point insertion terminated (316 points created):\n",
      "Info    :  - 0 Delaunay cavities modified for star shapeness\n",
      "Info    :  - 0 points could not be inserted\n",
      "Info    :  - 830 tetrahedra created in 3.7e-05 sec. (22432432 tets/s)\n",
      "Info    : Done meshing 3D (0.034424 s)\n",
      "Info    : Optimizing 3D mesh...\n",
      "Info    : Optimizing volume 1\n",
      "Info    : Optimization starts (volume = 7.27039) with worst = 0.300757 / average = 0.715182:\n",
      "Info    : 0.00 < quality < 0.10 :         0 elements\n",
      "Info    : 0.10 < quality < 0.20 :         0 elements\n",
      "Info    : 0.20 < quality < 0.30 :         0 elements\n",
      "Info    : 0.30 < quality < 0.40 :        10 elements\n",
      "Info    : 0.40 < quality < 0.50 :        18 elements\n",
      "Info    : 0.50 < quality < 0.60 :        11 elements\n",
      "Info    : 0.60 < quality < 0.70 :       165 elements\n",
      "Info    : 0.70 < quality < 0.80 :       608 elements\n",
      "Info    : 0.80 < quality < 0.90 :        18 elements\n",
      "Info    : 0.90 < quality < 1.00 :         0 elements\n",
      "Info    : No ill-shaped tets in the mesh :-)\n",
      "Info    : 0.00 < quality < 0.10 :         0 elements\n",
      "Info    : 0.10 < quality < 0.20 :         0 elements\n",
      "Info    : 0.20 < quality < 0.30 :         0 elements\n",
      "Info    : 0.30 < quality < 0.40 :        10 elements\n",
      "Info    : 0.40 < quality < 0.50 :        18 elements\n",
      "Info    : 0.50 < quality < 0.60 :        11 elements\n",
      "Info    : 0.60 < quality < 0.70 :       165 elements\n",
      "Info    : 0.70 < quality < 0.80 :       608 elements\n",
      "Info    : 0.80 < quality < 0.90 :        18 elements\n",
      "Info    : 0.90 < quality < 1.00 :         0 elements\n",
      "Info    : Done optimizing 3D mesh (0.00118 s)\n",
      "Info    : 318 vertices 1547 elements\n"
     ]
    }
   ],
   "source": [
    "gmsh.model.geo.synchronize()\n",
    "gmsh.model.mesh.generate(3)"
   ]
  },
  {
   "cell_type": "markdown",
   "metadata": {},
   "source": [
    "Nodes can be extracted using `getNodes()`."
   ]
  },
  {
   "cell_type": "code",
   "execution_count": 6,
   "metadata": {},
   "outputs": [
    {
     "data": {
      "text/plain": [
       "(318, 954)"
      ]
     },
     "execution_count": 6,
     "metadata": {},
     "output_type": "execute_result"
    }
   ],
   "source": [
    "node_ids, node_coords, _ = gmsh.model.mesh.getNodes()\n",
    "length(node_ids), length(node_coords)"
   ]
  },
  {
   "cell_type": "code",
   "execution_count": 7,
   "metadata": {},
   "outputs": [
    {
     "data": {
      "text/plain": [
       "(UInt64[0x000000000000013d, 0x0000000000000001, 0x0000000000000002], [0.0, 0.0, 0.0, 1.0, 0.0, 0.0, 5.0, 0.0, 0.0])"
      ]
     },
     "execution_count": 7,
     "metadata": {},
     "output_type": "execute_result"
    }
   ],
   "source": [
    "node_ids[1:3], node_coords[1:9]"
   ]
  },
  {
   "cell_type": "markdown",
   "metadata": {},
   "source": [
    "While it's not strictly necessary, let's create dictionary of nodes."
   ]
  },
  {
   "cell_type": "code",
   "execution_count": 8,
   "metadata": {},
   "outputs": [
    {
     "data": {
      "text/plain": [
       "Dict{UInt64,Array{Float64,1}} with 318 entries:\n",
       "  0x0000000000000120 => [4.14173, 2.16239, 0.3]\n",
       "  0x0000000000000132 => [1.63987, 3.86227, 0.3]\n",
       "  0x000000000000000b => [1.5, 0.0, 0.0]\n",
       "  0x0000000000000086 => [2.14902, 4.58079, 0.0]\n",
       "  0x000000000000009e => [4.68156, 1.73755, 0.0]\n",
       "  0x00000000000000a0 => [3.46932, 2.44776, 0.0]\n",
       "  0x00000000000000d7 => [1.60496, 2.7289, 0.3]\n",
       "  0x000000000000001d => [3.5, 5.0, 0.0]\n",
       "  0x0000000000000083 => [0.491192, 4.50977, 0.0]\n",
       "  0x00000000000000f9 => [4.58979, 2.13984, 0.3]\n",
       "  0x00000000000000cf => [4.13702, 4.13374, 0.3]\n",
       "  0x000000000000012c => [3.912, 1.72834, 0.3]\n",
       "  0x00000000000000ad => [3.09815, 1.27928, 0.0]\n",
       "  0x0000000000000121 => [3.09815, 1.27928, 0.3]\n",
       "  0x000000000000004a => [5.0, 1.5, 0.3]\n",
       "  0x00000000000000c9 => [1.2428, 1.83259, 0.3]\n",
       "  0x00000000000000b0 => [0.68916, 1.03144, 0.0]\n",
       "  0x0000000000000039 => [0.0, 3.5, 0.3]\n",
       "  0x000000000000001f => [2.5, 5.0, 0.0]\n",
       "  0x000000000000011d => [2.88243, 4.03622, 0.3]\n",
       "  0x000000000000013e => [0.0, 0.0, 0.3]\n",
       "  0x0000000000000046 => [4.0, 0.0, 0.3]\n",
       "  0x0000000000000021 => [1.5, 5.0, 0.0]\n",
       "  0x00000000000000fc => [1.9895, 3.70152, 0.3]\n",
       "  0x0000000000000072 => [1.43943, 0.480031, 0.0]\n",
       "  ⋮                  => ⋮"
      ]
     },
     "execution_count": 8,
     "metadata": {},
     "output_type": "execute_result"
    }
   ],
   "source": [
    "nodes = Dict(node_ids[i] => node_coords[3*(i-1)+1:3*(i-1)+3] for i=1:length(node_ids))\n",
    "nodes"
   ]
  },
  {
   "cell_type": "markdown",
   "metadata": {},
   "source": [
    "Next elements. For that, we extract physical groups and entities attached to them."
   ]
  },
  {
   "cell_type": "code",
   "execution_count": 9,
   "metadata": {},
   "outputs": [
    {
     "name": "stdout",
     "output_type": "stream",
     "text": [
      "(2, 1) => LEFT, entities: 19\n",
      "(2, 2) => RIGHT, entities: 31\n",
      "(2, 3) => TOP, entities: 15\n",
      "(2, 4) => DOWN, entities: 27\n",
      "(2, 5) => FRONT, entities: 32\n",
      "(2, 6) => BACK, entities: 1\n",
      "(3, 1) => PLATE, entities: 1\n"
     ]
    }
   ],
   "source": [
    "physical_groups = gmsh.model.getPhysicalGroups()\n",
    "for (dim, tag) in physical_groups\n",
    "    entities = gmsh.model.getEntitiesForPhysicalGroup(dim, tag)\n",
    "    physical_name = gmsh.model.getPhysicalName(dim, tag)\n",
    "    println(\"($dim, $tag) => $physical_name, entities: \", join(entities, \", \"))\n",
    "end"
   ]
  },
  {
   "cell_type": "markdown",
   "metadata": {},
   "source": [
    "For example, elements in set LEFT can be accessed using `getElements`, where the first argument is dimension (2 = 2d), and the second argument is the tag of entity."
   ]
  },
  {
   "cell_type": "code",
   "execution_count": 10,
   "metadata": {},
   "outputs": [
    {
     "data": {
      "text/plain": [
       "(Int32[2], Array{UInt64,1}[[0x0000000000000123, 0x0000000000000124, 0x0000000000000125, 0x0000000000000126, 0x0000000000000127, 0x0000000000000128, 0x0000000000000129, 0x000000000000012a, 0x000000000000012b, 0x000000000000012c, 0x000000000000012d, 0x000000000000012e, 0x000000000000012f, 0x0000000000000130, 0x0000000000000131, 0x0000000000000132]], Array{UInt64,1}[[0x0000000000000007, 0x0000000000000004, 0x0000000000000037, 0x0000000000000004, 0x0000000000000024, 0x0000000000000037, 0x000000000000002a, 0x0000000000000005, 0x0000000000000008, 0x000000000000002a  …  0x000000000000003b, 0x0000000000000028, 0x000000000000003c, 0x000000000000003b, 0x0000000000000029, 0x000000000000002a, 0x000000000000003c, 0x000000000000003c, 0x000000000000002a, 0x000000000000003d]])"
      ]
     },
     "execution_count": 10,
     "metadata": {},
     "output_type": "execute_result"
    }
   ],
   "source": [
    "element_types, element_ids, element_connectivity = gmsh.model.mesh.getElements(2, 19)"
   ]
  },
  {
   "cell_type": "code",
   "execution_count": 11,
   "metadata": {},
   "outputs": [
    {
     "data": {
      "text/plain": [
       "1-element Array{Int32,1}:\n",
       " 2"
      ]
     },
     "execution_count": 11,
     "metadata": {},
     "output_type": "execute_result"
    }
   ],
   "source": [
    "element_types"
   ]
  },
  {
   "cell_type": "code",
   "execution_count": 12,
   "metadata": {},
   "outputs": [
    {
     "name": "stdout",
     "output_type": "stream",
     "text": [
      "2 = (\"Triangle 3\", 2, 1, 3, [0.0, 0.0, 1.0, 0.0, 0.0, 1.0])\n"
     ]
    }
   ],
   "source": [
    "for i in element_types\n",
    "    println(\"$i = \", gmsh.model.mesh.getElementProperties(i))\n",
    "end"
   ]
  },
  {
   "cell_type": "markdown",
   "metadata": {},
   "source": [
    "Like with nodes, let's create auxiliary dictionaries to make further processing of mesh easier."
   ]
  },
  {
   "cell_type": "code",
   "execution_count": 13,
   "metadata": {},
   "outputs": [
    {
     "data": {
      "text/plain": [
       "Dict{UInt64,Array{UInt64,1}} with 16 entries:\n",
       "  0x0000000000000123 => UInt64[0x0000000000000007, 0x0000000000000004, 0x000000…\n",
       "  0x0000000000000129 => UInt64[0x0000000000000037, 0x0000000000000025, 0x000000…\n",
       "  0x0000000000000130 => UInt64[0x0000000000000028, 0x000000000000003c, 0x000000…\n",
       "  0x0000000000000132 => UInt64[0x000000000000003c, 0x000000000000002a, 0x000000…\n",
       "  0x000000000000012f => UInt64[0x000000000000003a, 0x0000000000000028, 0x000000…\n",
       "  0x0000000000000126 => UInt64[0x000000000000002a, 0x0000000000000008, 0x000000…\n",
       "  0x000000000000012a => UInt64[0x0000000000000025, 0x0000000000000039, 0x000000…\n",
       "  0x000000000000012b => UInt64[0x0000000000000026, 0x0000000000000027, 0x000000…\n",
       "  0x000000000000012c => UInt64[0x0000000000000026, 0x000000000000003a, 0x000000…\n",
       "  0x0000000000000128 => UInt64[0x0000000000000025, 0x0000000000000026, 0x000000…\n",
       "  0x0000000000000124 => UInt64[0x0000000000000004, 0x0000000000000024, 0x000000…\n",
       "  0x000000000000012e => UInt64[0x0000000000000028, 0x0000000000000029, 0x000000…\n",
       "  0x0000000000000131 => UInt64[0x0000000000000029, 0x000000000000002a, 0x000000…\n",
       "  0x0000000000000127 => UInt64[0x0000000000000024, 0x0000000000000025, 0x000000…\n",
       "  0x0000000000000125 => UInt64[0x000000000000002a, 0x0000000000000005, 0x000000…\n",
       "  0x000000000000012d => UInt64[0x000000000000003a, 0x0000000000000027, 0x000000…"
      ]
     },
     "execution_count": 13,
     "metadata": {},
     "output_type": "execute_result"
    }
   ],
   "source": [
    "left_elements = Dict(element_ids[1][i] => element_connectivity[1][3*(i-1)+1:3*(i-1)+3] for i=1:length(element_ids[1]))"
   ]
  },
  {
   "cell_type": "markdown",
   "metadata": {},
   "source": [
    "We do the same thing for all physical groups. A small function is written to make task easier."
   ]
  },
  {
   "cell_type": "code",
   "execution_count": 14,
   "metadata": {},
   "outputs": [],
   "source": [
    "function elements_to_dict(dim, tag)\n",
    "    element_types, element_ids, element_connectivity = gmsh.model.mesh.getElements(dim, tag)\n",
    "    length(element_types) == 1 || error(\"Only one element type / entity supported.\")\n",
    "    nelements = length(element_ids[1])\n",
    "    nnodes = length(element_connectivity[1]) ÷ nelements\n",
    "    elements = Dict(element_ids[1][i] => element_connectivity[1][nnodes*(i-1)+1:nnodes*i] for i=1:nelements)\n",
    "end\n",
    "\n",
    "right_elements = elements_to_dict(2, 31)\n",
    "top_elements = elements_to_dict(2, 15)\n",
    "down_elements = elements_to_dict(2, 27)\n",
    "front_elements = elements_to_dict(2, 32)\n",
    "back_elements = elements_to_dict(2, 1)\n",
    "plate_elements = elements_to_dict(3, 1);"
   ]
  },
  {
   "cell_type": "code",
   "execution_count": 15,
   "metadata": {},
   "outputs": [
    {
     "name": "stdout",
     "output_type": "stream",
     "text": [
      "Number of nodes in model (total) = 318\n",
      "Number of elements in physical group LEFT  = 16\n",
      "Number of elements in physical group RIGHT = 20\n",
      "Number of elements in physical group TOP   = 20\n",
      "Number of elements in physical group DOWN  = 16\n",
      "Number of elements in physical group FRONT = 270\n",
      "Number of elements in physical group BACK  = 270\n",
      "Number of elements in physical group PLATE = 830\n"
     ]
    }
   ],
   "source": [
    "println(\"Number of nodes in model (total) = \", length(nodes))\n",
    "println(\"Number of elements in physical group LEFT  = \", length(left_elements))\n",
    "println(\"Number of elements in physical group RIGHT = \", length(right_elements))\n",
    "println(\"Number of elements in physical group TOP   = \", length(top_elements))\n",
    "println(\"Number of elements in physical group DOWN  = \", length(down_elements))\n",
    "println(\"Number of elements in physical group FRONT = \", length(front_elements))\n",
    "println(\"Number of elements in physical group BACK  = \", length(back_elements))\n",
    "println(\"Number of elements in physical group PLATE = \", length(plate_elements))"
   ]
  },
  {
   "cell_type": "markdown",
   "metadata": {},
   "source": [
    "Now the mesh data is in dictionaries. What is left, is to create `Mesh` object and then build the model and run analysis."
   ]
  },
  {
   "cell_type": "code",
   "execution_count": 16,
   "metadata": {},
   "outputs": [],
   "source": [
    "using JuliaFEM"
   ]
  },
  {
   "cell_type": "code",
   "execution_count": 17,
   "metadata": {},
   "outputs": [
    {
     "data": {
      "text/plain": [
       "Mesh(Dict{Int64,Array{Float64,1}}(), Dict{Symbol,Set{Int64}}(), Dict{Int64,Array{Int64,1}}(), Dict{Int64,Symbol}(), Dict{Int64,Symbol}(), Dict{Symbol,Set{Int64}}(), Dict{Symbol,Array{Tuple{Int64,Symbol},1}}(), Dict{Symbol,Symbol}(), nothing)"
      ]
     },
     "execution_count": 17,
     "metadata": {},
     "output_type": "execute_result"
    }
   ],
   "source": [
    "mesh = Mesh()"
   ]
  },
  {
   "cell_type": "code",
   "execution_count": 18,
   "metadata": {},
   "outputs": [],
   "source": [
    "for (nid, ncoords) in nodes\n",
    "    add_node!(mesh, Int(nid), ncoords)\n",
    "end"
   ]
  },
  {
   "cell_type": "code",
   "execution_count": 19,
   "metadata": {},
   "outputs": [],
   "source": [
    "for (elid, elcon) in left_elements\n",
    "    add_element!(mesh, Int(elid), :Tri3, elcon)\n",
    "    add_element_to_element_set!(mesh, :LEFT, Int(elid))\n",
    "end"
   ]
  },
  {
   "cell_type": "code",
   "execution_count": 20,
   "metadata": {},
   "outputs": [
    {
     "data": {
      "text/plain": [
       "Dict{Symbol,Set{Int64}} with 7 entries:\n",
       "  :PLATE => Set([1316, 1090, 1333, 1131, 1265, 905, 892, 1124, 1337, 873  …  10…\n",
       "  :LEFT  => Set([291, 297, 304, 306, 303, 294, 298, 299, 300, 296, 292, 302, 30…\n",
       "  :RIGHT => Set([329, 326, 337, 332, 336, 334, 341, 328, 333, 324, 342, 327, 32…\n",
       "  :TOP   => Set([288, 287, 275, 282, 278, 279, 281, 280, 274, 273, 286, 277, 27…\n",
       "  :BACK  => Set([11, 158, 215, 160, 134, 29, 131, 249, 207, 173  …  24, 73, 119…\n",
       "  :DOWN  => Set([308, 310, 316, 311, 307, 319, 314, 321, 312, 317, 320, 313, 30…\n",
       "  :FRONT => Set([520, 491, 464, 582, 391, 478, 384, 542, 499, 477  …  389, 420,…"
      ]
     },
     "execution_count": 20,
     "metadata": {},
     "output_type": "execute_result"
    }
   ],
   "source": [
    "function elements_to_mesh!(mesh, elements, eltype, set_name)\n",
    "    for (elid, elcon) in elements\n",
    "        add_element!(mesh, Int(elid), eltype, elcon)\n",
    "        add_element_to_element_set!(mesh, set_name, Int(elid))\n",
    "    end\n",
    "end\n",
    "\n",
    "elements_to_mesh!(mesh, right_elements, :Tri3, :RIGHT)\n",
    "elements_to_mesh!(mesh, top_elements, :Tri3, :TOP)\n",
    "elements_to_mesh!(mesh, down_elements, :Tri3, :DOWN)\n",
    "elements_to_mesh!(mesh, front_elements, :Tri3, :FRONT)\n",
    "elements_to_mesh!(mesh, back_elements, :Tri3, :BACK)\n",
    "elements_to_mesh!(mesh, plate_elements, :Tet4, :PLATE)\n",
    "mesh.element_sets"
   ]
  },
  {
   "cell_type": "code",
   "execution_count": 21,
   "metadata": {},
   "outputs": [
    {
     "data": {
      "text/plain": [
       "318"
      ]
     },
     "execution_count": 21,
     "metadata": {},
     "output_type": "execute_result"
    }
   ],
   "source": [
    "length(mesh.nodes)"
   ]
  },
  {
   "cell_type": "markdown",
   "metadata": {},
   "source": [
    "Mesh is ready. Next create problems:"
   ]
  },
  {
   "cell_type": "code",
   "execution_count": 22,
   "metadata": {},
   "outputs": [
    {
     "name": "stderr",
     "output_type": "stream",
     "text": [
      "┌ Info: Creating a new problem of type Elasticity, having name `plate` and dimension 3 dofs/node.\n",
      "└ @ FEMBase /home/jukka/repositories/FEMBase/src/problems.jl:136\n",
      "┌ Info: Created 830 elements (830 x Tet4) from element set: PLATE.\n",
      "└ @ JuliaFEM /home/jukka/repositories/JuliaFEM/src/preprocess.jl:244\n",
      "┌ Info: Updating field `youngs modulus` => 2.1e11 for 830 elements.\n",
      "└ @ FEMBase /home/jukka/repositories/FEMBase/src/elements.jl:328\n",
      "┌ Info: Updating field `poissons ratio` => 0.3 for 830 elements.\n",
      "└ @ FEMBase /home/jukka/repositories/FEMBase/src/elements.jl:328\n",
      "┌ Info: Adding 830 elements to problem `plate`\n",
      "└ @ FEMBase /home/jukka/repositories/FEMBase/src/problems.jl:382\n"
     ]
    }
   ],
   "source": [
    "plate = Problem(Elasticity, \"plate\", 3)\n",
    "plate_elements = create_elements(mesh, :PLATE)\n",
    "update!(plate_elements, \"youngs modulus\", 210e9)\n",
    "update!(plate_elements, \"poissons ratio\", 0.3)\n",
    "add_elements!(plate, plate_elements)"
   ]
  },
  {
   "cell_type": "code",
   "execution_count": 23,
   "metadata": {},
   "outputs": [
    {
     "name": "stderr",
     "output_type": "stream",
     "text": [
      "┌ Info: Created 16 elements (16 x Tri3) from element set: LEFT.\n",
      "└ @ JuliaFEM /home/jukka/repositories/JuliaFEM/src/preprocess.jl:244\n",
      "┌ Info: Updating field `displacement 1` => 0.0 for 16 elements.\n",
      "└ @ FEMBase /home/jukka/repositories/FEMBase/src/elements.jl:328\n",
      "┌ Info: Creating a new boundary problem of type Dirichlet, having name `left bc` and dimension 3 dofs/node. This boundary problems fixes field `displacement`.\n",
      "└ @ FEMBase /home/jukka/repositories/FEMBase/src/problems.jl:173\n",
      "┌ Info: Adding 16 elements to problem `left bc`\n",
      "└ @ FEMBase /home/jukka/repositories/FEMBase/src/problems.jl:382\n"
     ]
    }
   ],
   "source": [
    "left_elements = create_elements(mesh, :LEFT)\n",
    "update!(left_elements, \"displacement 1\", 0.0)\n",
    "left_bc = Problem(Dirichlet, \"left bc\", 3, \"displacement\")\n",
    "add_elements!(left_bc, left_elements)"
   ]
  },
  {
   "cell_type": "code",
   "execution_count": 24,
   "metadata": {},
   "outputs": [
    {
     "name": "stderr",
     "output_type": "stream",
     "text": [
      "┌ Info: Created 20 elements (20 x Tri3) from element set: RIGHT.\n",
      "└ @ JuliaFEM /home/jukka/repositories/JuliaFEM/src/preprocess.jl:244\n",
      "┌ Info: Updating field `displacement traction force 1` => 10000.0 for 20 elements.\n",
      "└ @ FEMBase /home/jukka/repositories/FEMBase/src/elements.jl:328\n",
      "┌ Info: Creating a new problem of type Elasticity, having name `right bc` and dimension 3 dofs/node.\n",
      "└ @ FEMBase /home/jukka/repositories/FEMBase/src/problems.jl:136\n",
      "┌ Info: Adding 20 elements to problem `right bc`\n",
      "└ @ FEMBase /home/jukka/repositories/FEMBase/src/problems.jl:382\n"
     ]
    }
   ],
   "source": [
    "right_elements = create_elements(mesh, :RIGHT)\n",
    "update!(right_elements, \"displacement traction force 1\", 10e3)\n",
    "right_bc = Problem(Elasticity, \"right bc\", 3)\n",
    "add_elements!(right_bc, right_elements)"
   ]
  },
  {
   "cell_type": "code",
   "execution_count": 25,
   "metadata": {},
   "outputs": [
    {
     "name": "stderr",
     "output_type": "stream",
     "text": [
      "┌ Info: Created 16 elements (16 x Tri3) from element set: DOWN.\n",
      "└ @ JuliaFEM /home/jukka/repositories/JuliaFEM/src/preprocess.jl:244\n",
      "┌ Info: Updating field `displacement 2` => 0.0 for 16 elements.\n",
      "└ @ FEMBase /home/jukka/repositories/FEMBase/src/elements.jl:328\n",
      "┌ Info: Creating a new boundary problem of type Dirichlet, having name `down bc` and dimension 3 dofs/node. This boundary problems fixes field `displacement`.\n",
      "└ @ FEMBase /home/jukka/repositories/FEMBase/src/problems.jl:173\n",
      "┌ Info: Adding 16 elements to problem `down bc`\n",
      "└ @ FEMBase /home/jukka/repositories/FEMBase/src/problems.jl:382\n"
     ]
    }
   ],
   "source": [
    "down_elements = create_elements(mesh, :DOWN)\n",
    "update!(down_elements, \"displacement 2\", 0.0)\n",
    "down_bc = Problem(Dirichlet, \"down bc\", 3, \"displacement\")\n",
    "add_elements!(down_bc, down_elements)"
   ]
  },
  {
   "cell_type": "code",
   "execution_count": 26,
   "metadata": {},
   "outputs": [
    {
     "name": "stderr",
     "output_type": "stream",
     "text": [
      "┌ Info: Created 270 elements (270 x Tri3) from element set: FRONT.\n",
      "└ @ JuliaFEM /home/jukka/repositories/JuliaFEM/src/preprocess.jl:244\n",
      "┌ Info: Updating field `displacement 3` => 0.0 for 270 elements.\n",
      "└ @ FEMBase /home/jukka/repositories/FEMBase/src/elements.jl:328\n",
      "┌ Info: Creating a new boundary problem of type Dirichlet, having name `front bc` and dimension 3 dofs/node. This boundary problems fixes field `displacement`.\n",
      "└ @ FEMBase /home/jukka/repositories/FEMBase/src/problems.jl:173\n",
      "┌ Info: Adding 270 elements to problem `front bc`\n",
      "└ @ FEMBase /home/jukka/repositories/FEMBase/src/problems.jl:382\n"
     ]
    }
   ],
   "source": [
    "front_elements = create_elements(mesh, :FRONT)\n",
    "update!(front_elements, \"displacement 3\", 0.0)\n",
    "front_bc = Problem(Dirichlet, \"front bc\", 3, \"displacement\")\n",
    "add_elements!(front_bc, front_elements)"
   ]
  },
  {
   "cell_type": "markdown",
   "metadata": {},
   "source": [
    "Analysis:"
   ]
  },
  {
   "cell_type": "code",
   "execution_count": 27,
   "metadata": {},
   "outputs": [
    {
     "name": "stderr",
     "output_type": "stream",
     "text": [
      "┌ Info: Creating a new analysis of type Linear with name `Linear Analysis`.\n",
      "└ @ FEMBase /home/jukka/repositories/FEMBase/src/analysis.jl:30\n",
      "┌ Info: Adding problem `plate` to analysis `Linear Analysis`.\n",
      "└ @ FEMBase /home/jukka/repositories/FEMBase/src/analysis.jl:36\n",
      "┌ Info: Adding problem `left bc` to analysis `Linear Analysis`.\n",
      "└ @ FEMBase /home/jukka/repositories/FEMBase/src/analysis.jl:36\n",
      "┌ Info: Adding problem `right bc` to analysis `Linear Analysis`.\n",
      "└ @ FEMBase /home/jukka/repositories/FEMBase/src/analysis.jl:36\n",
      "┌ Info: Adding problem `down bc` to analysis `Linear Analysis`.\n",
      "└ @ FEMBase /home/jukka/repositories/FEMBase/src/analysis.jl:36\n",
      "┌ Info: Adding problem `front bc` to analysis `Linear Analysis`.\n",
      "└ @ FEMBase /home/jukka/repositories/FEMBase/src/analysis.jl:36\n"
     ]
    }
   ],
   "source": [
    "analysis = Analysis(Linear)\n",
    "add_problems!(analysis, plate, left_bc, right_bc, down_bc, front_bc)"
   ]
  },
  {
   "cell_type": "markdown",
   "metadata": {},
   "source": [
    "Write results to Xdmf file during analysis"
   ]
  },
  {
   "cell_type": "code",
   "execution_count": 28,
   "metadata": {},
   "outputs": [
    {
     "name": "stderr",
     "output_type": "stream",
     "text": [
      "┌ Info: Running linear quasistatic analysis `Linear Analysis` at time 0.0.\n",
      "└ @ JuliaFEM /home/jukka/repositories/JuliaFEM/src/solvers.jl:637\n",
      "┌ Info: Assembling 5 problems.\n",
      "└ @ JuliaFEM /home/jukka/repositories/JuliaFEM/src/solvers.jl:640\n",
      "┌ Info: Solving linear system.\n",
      "└ @ JuliaFEM /home/jukka/repositories/JuliaFEM/src/solvers.jl:269\n",
      "┌ Info: Solved linear system in 1.15 seconds using solver 1. Solution norms (||u||, ||la||): (3.008804266899659e-6, 3917.0157991440396).\n",
      "└ @ JuliaFEM /home/jukka/repositories/JuliaFEM/src/solvers.jl:323\n",
      "┌ Info: \n",
      "└ @ JuliaFEM /home/jukka/repositories/JuliaFEM/src/solvers.jl:335\n",
      "┌ Info: Postprocessing 5 problems.\n",
      "└ @ JuliaFEM /home/jukka/repositories/JuliaFEM/src/solvers.jl:492\n",
      "┌ Info: Quasistatic linear analysis ready.\n",
      "└ @ JuliaFEM /home/jukka/repositories/JuliaFEM/src/solvers.jl:650\n"
     ]
    }
   ],
   "source": [
    "xdmf_output = Xdmf(\"plate_results\"; overwrite=true)\n",
    "add_results_writer!(analysis, xdmf_output)\n",
    "run!(analysis)\n",
    "close(xdmf_output)"
   ]
  },
  {
   "cell_type": "markdown",
   "metadata": {},
   "source": [
    "Results"
   ]
  },
  {
   "cell_type": "markdown",
   "metadata": {},
   "source": [
    "<img src=\"results.png\">"
   ]
  }
 ],
 "metadata": {
  "kernelspec": {
   "display_name": "Julia 1.2.0",
   "language": "julia",
   "name": "julia-1.2"
  },
  "language_info": {
   "file_extension": ".jl",
   "mimetype": "application/julia",
   "name": "julia",
   "version": "1.2.0"
  }
 },
 "nbformat": 4,
 "nbformat_minor": 4
}
